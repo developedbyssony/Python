{
 "cells": [
  {
   "cell_type": "code",
   "execution_count": 6,
   "id": "d4d39126",
   "metadata": {
    "scrolled": false
   },
   "outputs": [
    {
     "ename": "DatabaseError",
     "evalue": "DPI-1047: Cannot locate a 64-bit Oracle Client library: \"dlopen(libclntsh.dylib, 0x0001): tried: '/Users/yunhee/opt/anaconda3/lib/libclntsh.dylib' (no such file), '/Users/yunhee/opt/anaconda3/lib/libclntsh.dylib' (no such file), '/Users/yunhee/opt/anaconda3/lib/libclntsh.dylib' (no such file), '/Users/yunhee/opt/anaconda3/bin/../lib/libclntsh.dylib' (no such file), 'libclntsh.dylib' (no such file), '/usr/local/lib/libclntsh.dylib' (no such file), '/usr/lib/libclntsh.dylib' (no such file), '/Users/yunhee/Python/libclntsh.dylib' (no such file)\". See https://cx-oracle.readthedocs.io/en/latest/user_guide/installation.html for help",
     "output_type": "error",
     "traceback": [
      "\u001b[0;31m---------------------------------------------------------------------------\u001b[0m",
      "\u001b[0;31mDatabaseError\u001b[0m                             Traceback (most recent call last)",
      "Input \u001b[0;32mIn [6]\u001b[0m, in \u001b[0;36m<cell line: 15>\u001b[0;34m()\u001b[0m\n\u001b[1;32m      1\u001b[0m \u001b[38;5;66;03m# 사이트에 자료 요청\u001b[39;00m\n\u001b[1;32m      2\u001b[0m \u001b[38;5;66;03m#import urllib.request \u001b[39;00m\n\u001b[1;32m      3\u001b[0m \u001b[38;5;66;03m# json 데이터 핸들링\u001b[39;00m\n\u001b[0;32m   (...)\u001b[0m\n\u001b[1;32m     11\u001b[0m \u001b[38;5;66;03m#url = \"http://kobis.or.kr/kobisopenapi/webservice/rest/boxoffice/searchDailyBoxOfficeList.json?key=%s&targetDt=%s\" % (api_key, request_date)\u001b[39;00m\n\u001b[1;32m     12\u001b[0m \u001b[38;5;66;03m#print(url)\u001b[39;00m\n\u001b[1;32m     14\u001b[0m \u001b[38;5;28;01mimport\u001b[39;00m \u001b[38;5;21;01mcx_Oracle\u001b[39;00m\n\u001b[0;32m---> 15\u001b[0m con_oracle \u001b[38;5;241m=\u001b[39m \u001b[43mcx_Oracle\u001b[49m\u001b[38;5;241;43m.\u001b[39;49m\u001b[43mconnect\u001b[49m\u001b[43m(\u001b[49m\u001b[38;5;124;43m\"\u001b[39;49m\u001b[38;5;124;43mlocalhost:1521/XE\u001b[39;49m\u001b[38;5;124;43m\"\u001b[39;49m\u001b[43m)\u001b[49m\n",
      "\u001b[0;31mDatabaseError\u001b[0m: DPI-1047: Cannot locate a 64-bit Oracle Client library: \"dlopen(libclntsh.dylib, 0x0001): tried: '/Users/yunhee/opt/anaconda3/lib/libclntsh.dylib' (no such file), '/Users/yunhee/opt/anaconda3/lib/libclntsh.dylib' (no such file), '/Users/yunhee/opt/anaconda3/lib/libclntsh.dylib' (no such file), '/Users/yunhee/opt/anaconda3/bin/../lib/libclntsh.dylib' (no such file), 'libclntsh.dylib' (no such file), '/usr/local/lib/libclntsh.dylib' (no such file), '/usr/lib/libclntsh.dylib' (no such file), '/Users/yunhee/Python/libclntsh.dylib' (no such file)\". See https://cx-oracle.readthedocs.io/en/latest/user_guide/installation.html for help"
     ]
    }
   ],
   "source": [
    "# 사이트에 자료 요청\n",
    "#import urllib.request \n",
    "# json 데이터 핸들링\n",
    "#import json \n",
    "# DataFrame 자료형 활용\n",
    "#import pandas as pd \n",
    "# json 데이터를 pandas DataFrame으로 변환\n",
    "#from pandas.io.json import json_normalize\n",
    "#api_key = \"f5eef3421c602c6cb7ea224104795888\" # 발급받은 키만 복붙하세요\n",
    "#request_date = \"20220622\" # 조회날짜를  xxxxyydd 20220623 형식으로 넣어주세요\n",
    "#url = \"http://kobis.or.kr/kobisopenapi/webservice/rest/boxoffice/searchDailyBoxOfficeList.json?key=%s&targetDt=%s\" % (api_key, request_date)\n",
    "#print(url)\n",
    "\n",
    "import cx_Oracle\n",
    "con_oracle = cx_Oracle.connect(\"system\",\"oracle\",\"localhost:1521/XE\")"
   ]
  },
  {
   "cell_type": "code",
   "execution_count": null,
   "id": "7a93aad9",
   "metadata": {},
   "outputs": [],
   "source": []
  },
  {
   "cell_type": "code",
   "execution_count": null,
   "id": "18e97e90",
   "metadata": {},
   "outputs": [],
   "source": []
  }
 ],
 "metadata": {
  "kernelspec": {
   "display_name": "Python 3 (ipykernel)",
   "language": "python",
   "name": "python3"
  },
  "language_info": {
   "codemirror_mode": {
    "name": "ipython",
    "version": 3
   },
   "file_extension": ".py",
   "mimetype": "text/x-python",
   "name": "python",
   "nbconvert_exporter": "python",
   "pygments_lexer": "ipython3",
   "version": "3.9.12"
  }
 },
 "nbformat": 4,
 "nbformat_minor": 5
}
