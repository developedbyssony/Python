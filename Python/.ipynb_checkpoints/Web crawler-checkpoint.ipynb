{
 "cells": [
  {
   "cell_type": "code",
   "execution_count": 91,
   "id": "00fcab7a",
   "metadata": {},
   "outputs": [
    {
     "name": "stderr",
     "output_type": "stream",
     "text": [
      "/var/folders/66/m7w2xg7j1vldcbz18q8msph00000gn/T/ipykernel_33840/160988206.py:6: DeprecationWarning: executable_path has been deprecated, please pass in a Service object\n",
      "  driver=webdriver.Chrome(ChromeDriverManager().install())\n"
     ]
    }
   ],
   "source": [
    "from bs4 import BeautifulSoup\n",
    "import requests\n",
    "import time # 코드 중간에 딜레이를 넣는 역할\n",
    "from selenium.webdriver.common.keys import Keys\n",
    "from webdriver_manager.chrome import ChromeDriverManager\n",
    "driver=webdriver.Chrome(ChromeDriverManager().install())\n",
    "import codecs # 텍스트 저장"
   ]
  },
  {
   "cell_type": "code",
   "execution_count": 43,
   "id": "36ad087b",
   "metadata": {},
   "outputs": [],
   "source": [
    "driver.get('https://www.naver.com')"
   ]
  },
  {
   "cell_type": "code",
   "execution_count": 45,
   "id": "ab64b125",
   "metadata": {},
   "outputs": [],
   "source": [
    "driver.find_element(By.XPATH, '//*[@id=\"account\"]/a').click()"
   ]
  },
  {
   "cell_type": "code",
   "execution_count": 47,
   "id": "2d2598a0",
   "metadata": {},
   "outputs": [],
   "source": [
    "username = driver.find_element(By.XPATH, '//*[@id=\"id\"]')\n",
    "username.send_keys('abc1234')"
   ]
  },
  {
   "cell_type": "code",
   "execution_count": 58,
   "id": "ad0f5717",
   "metadata": {},
   "outputs": [
    {
     "name": "stdout",
     "output_type": "stream",
     "text": [
      "<selenium.webdriver.remote.webelement.WebElement (session=\"17762eeebc560735171e2cec2810f252\", element=\"4f89e584-c4c1-4379-bbdc-d572e5bba64a\")>\n"
     ]
    }
   ],
   "source": [
    "print(driver.find_element(By.XPATH, '//*[@id=\"NM_THEME_CONTAINER\"]/div[4]/div[2]'))"
   ]
  },
  {
   "cell_type": "code",
   "execution_count": 98,
   "id": "81eee13b",
   "metadata": {},
   "outputs": [],
   "source": [
    "driver.get('http://www.kyobobook.co.kr/bestSellerNew/bestseller.laf?orderClick=d79')\n",
    "kyobo_txt = codecs.open('/Users/yunhee/Python/kyoboBest100.txt',encoding=\"utf-8\", mode=\"w\")"
   ]
  },
  {
   "cell_type": "code",
   "execution_count": 99,
   "id": "a4618fb8",
   "metadata": {},
   "outputs": [],
   "source": [
    "source = driver.page_source"
   ]
  },
  {
   "cell_type": "code",
   "execution_count": 100,
   "id": "f6236274",
   "metadata": {},
   "outputs": [],
   "source": [
    "kyobo_code = BeautifulSoup(source, \"html.parser\")"
   ]
  },
  {
   "cell_type": "code",
   "execution_count": 101,
   "id": "482c0877",
   "metadata": {},
   "outputs": [
    {
     "data": {
      "text/plain": [
       "82"
      ]
     },
     "execution_count": 101,
     "metadata": {},
     "output_type": "execute_result"
    }
   ],
   "source": [
    "div_box_list = kyobo_code.find_all(\"div\", class_=\"title\")\n",
    "len(div_box_list)"
   ]
  },
  {
   "cell_type": "code",
   "execution_count": 102,
   "id": "2cc0c9e3",
   "metadata": {},
   "outputs": [
    {
     "name": "stdout",
     "output_type": "stream",
     "text": [
      "역행자\n",
      "불편한 편의점(40만부 기념 벚꽃 에디션)\n",
      "세상의 마지막 기차역\n",
      "계속 가보겠습니다\n",
      "작별인사\n",
      "기분을 관리하면 인생이 관리된다\n",
      "이상한 과자 가게 전천당 15\n",
      "유럽 도시 기행 2\n",
      "어서 오세요, 휴남동 서점입니다 (여름 숲 에디션)\n",
      "친밀한 이방인\n",
      "나 혼자만 레벨업 6(만화)\n",
      "인플레이션에서 살아남기\n",
      "마법천자문 53: 결정을 내리다! 결단할 결\n",
      "매일을 헤엄치는 법\n",
      "변화하는 세계 질서\n",
      "호감 가는 말투에는 비밀이 있다\n",
      "눈물 한 방울\n",
      "해커스 토익 기출 보카 TOEIC VOCA(개정판 5판)\n",
      "최재천의 공부\n",
      "나를 내려놓으니 내가 좋아졌다\n",
      "멘탈을 바꿔야 인생이 바뀐다\n",
      "에그박사 7\n",
      "어느 날, 내 죽음에 네가 들어왔다\n",
      "내 삶을 변화시키는 감사의 기적(양장본 Hardcover)\n",
      "방과 후 소년 하나코 군\n",
      "나라면 나와 결혼할까?\n",
      "입지 센스\n",
      "달러구트 꿈 백화점\n",
      "기억력 천재 게으른 뇌를 깨워라\n",
      "부자 아빠 가난한 아빠 1(20주년 특별 기념판)(개정증보판)\n",
      "마음의 법칙\n",
      "원피스 102: 천왕산\n",
      "흔한남매 10\n",
      "흔한남매 과학 탐험대 5: 물리 1(양장본 HardCover)\n",
      "물고기는 존재하지 않는다\n",
      "그릿(100쇄 기념 리커버 에디션)\n",
      "부를 재편하는 금융 대혁명\n",
      "원펀맨(One Punch Man) 25\n",
      "테라피스트\n",
      "포켓몬스터 썬&문 포켓몬 전국대도감\n",
      "모든 것은 기본에서 시작한다\n",
      "영어독립 365\n",
      "데일 카네기 인간관계론\n",
      "오늘 밤, 세계에서 이 사랑이 사라진다 해도\n",
      "오은영의 화해\n",
      "이어령의 마지막 수업\n",
      "부의 추월차선(10주년 스페셜 에디션)\n",
      "그리스 로마 신화 29: 오디세우스의 험난한 모험\n",
      "인간 실격(세계문학전집 103)\n",
      "삶의 격(일상 인문학 3)\n"
     ]
    }
   ],
   "source": [
    "title_list = []\n",
    "for title in div_box_list[32:]:\n",
    "    print(title.text.strip())"
   ]
  },
  {
   "cell_type": "code",
   "execution_count": 104,
   "id": "d076c72c",
   "metadata": {},
   "outputs": [],
   "source": [
    "kyobo_txt.close()"
   ]
  },
  {
   "cell_type": "code",
   "execution_count": 105,
   "id": "d6f33e3a",
   "metadata": {},
   "outputs": [],
   "source": []
  },
  {
   "cell_type": "code",
   "execution_count": null,
   "id": "eda058b0",
   "metadata": {},
   "outputs": [],
   "source": []
  }
 ],
 "metadata": {
  "kernelspec": {
   "display_name": "Python 3 (ipykernel)",
   "language": "python",
   "name": "python3"
  },
  "language_info": {
   "codemirror_mode": {
    "name": "ipython",
    "version": 3
   },
   "file_extension": ".py",
   "mimetype": "text/x-python",
   "name": "python",
   "nbconvert_exporter": "python",
   "pygments_lexer": "ipython3",
   "version": "3.9.12"
  }
 },
 "nbformat": 4,
 "nbformat_minor": 5
}
