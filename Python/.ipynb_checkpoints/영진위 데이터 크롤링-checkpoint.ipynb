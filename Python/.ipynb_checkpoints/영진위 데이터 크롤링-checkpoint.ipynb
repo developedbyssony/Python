{
 "cells": [
  {
   "cell_type": "code",
   "execution_count": null,
   "id": "7b4ed05b",
   "metadata": {},
   "outputs": [],
   "source": [
    "# 위의 url 변수를 이용해 데이터를 요청합니다.\n",
    "r = urllib.request.urlopen(url)\n",
    "\n",
    "# 요청 페이지의 결과 데이터를 파이썬 내부 데이터로 바꿉니다.\n",
    "json_raw = r.read()"
   ]
  },
  {
   "cell_type": "code",
   "execution_count": 1,
   "id": "386e4516",
   "metadata": {},
   "outputs": [
    {
     "ename": "NameError",
     "evalue": "name 'json_raw' is not defined",
     "output_type": "error",
     "traceback": [
      "\u001b[0;31m---------------------------------------------------------------------------\u001b[0m",
      "\u001b[0;31mNameError\u001b[0m                                 Traceback (most recent call last)",
      "Input \u001b[0;32mIn [1]\u001b[0m, in \u001b[0;36m<cell line: 3>\u001b[0;34m()\u001b[0m\n\u001b[1;32m      1\u001b[0m \u001b[38;5;66;03m# b'~~~~~'로 시작하는 이 데이터는 파이썬에서 byte자료형으로 처리되고\u001b[39;00m\n\u001b[1;32m      2\u001b[0m \u001b[38;5;66;03m# 데이터프레임으로는 바로 변환이 불가능합니다.\u001b[39;00m\n\u001b[0;32m----> 3\u001b[0m \u001b[43mjson_raw\u001b[49m\n",
      "\u001b[0;31mNameError\u001b[0m: name 'json_raw' is not defined"
     ]
    }
   ],
   "source": [
    "# b'~~~~~'로 시작하는 이 데이터는 파이썬에서 byte자료형으로 처리되고\n",
    "# 데이터프레임으로는 바로 변환이 불가능합니다.\n",
    "json_raw"
   ]
  },
  {
   "cell_type": "code",
   "execution_count": null,
   "id": "66a32903",
   "metadata": {},
   "outputs": [],
   "source": []
  }
 ],
 "metadata": {
  "kernelspec": {
   "display_name": "Python 3 (ipykernel)",
   "language": "python",
   "name": "python3"
  },
  "language_info": {
   "codemirror_mode": {
    "name": "ipython",
    "version": 3
   },
   "file_extension": ".py",
   "mimetype": "text/x-python",
   "name": "python",
   "nbconvert_exporter": "python",
   "pygments_lexer": "ipython3",
   "version": "3.9.12"
  }
 },
 "nbformat": 4,
 "nbformat_minor": 5
}
