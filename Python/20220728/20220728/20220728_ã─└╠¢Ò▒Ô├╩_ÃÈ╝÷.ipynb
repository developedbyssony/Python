{
 "cells": [
  {
   "cell_type": "markdown",
   "id": "da355d8a",
   "metadata": {},
   "source": [
    "# << 함수 >>\n",
    "\n",
    "반복적으로 사용하는 기능을 묶어서 함수로 정의하면 간편하게 사용할 수 있다.\n",
    "\n",
    "▶ 기본 문법 \n",
    "\n",
    "         def 함수이름(매개변수) :\n",
    "\n",
    "             <수행할 내용1>\n",
    "             <수행할 내용2>\n",
    "             <수행할 내용3>\n",
    "             \n",
    "             return \n",
    "\n",
    "            \n",
    "\n",
    "▶ 매개변수 \n",
    "\n",
    "        - 함수 안에서 사용할 값을 전달하는 변수로 <수행할 내용> 문장에서 변수로 사용된다.\n",
    "        \n",
    "        - 함수 정의문에서는 매개변수로서 선언되며 실제로 함수를 호출할 때는 인자값으로 전달된다.\n",
    "        \n",
    "        \n",
    "▶ 용어\n",
    "\n",
    "        - def : 함수를 정의할 때 사용하는 키워드\n",
    "        \n",
    "        - return : 함수의 결과값을 반환하는 키워드\n",
    "        \n",
    "        - 입력값 = 인수, 입력 인수, 인자\n",
    "        \n",
    "        - 결과값 = 출력값, 리턴값, 돌려주는 값, 반환 값"
   ]
  },
  {
   "cell_type": "code",
   "execution_count": 1,
   "id": "41b02bbb",
   "metadata": {},
   "outputs": [],
   "source": [
    "# 기본적인 함수의 예제(불완전한 실행문)\n",
    "def plus(b):\n",
    "    print(b + 1)"
   ]
  },
  {
   "cell_type": "code",
   "execution_count": 2,
   "id": "ea422d57",
   "metadata": {},
   "outputs": [
    {
     "name": "stdout",
     "output_type": "stream",
     "text": [
      "6\n",
      "None\n"
     ]
    }
   ],
   "source": [
    "result = plus(5)\n",
    "print(result)"
   ]
  },
  {
   "cell_type": "code",
   "execution_count": 3,
   "id": "594ddaca",
   "metadata": {},
   "outputs": [],
   "source": [
    "# return문의 역할\n",
    "def plus2(a):\n",
    "    return a + 1"
   ]
  },
  {
   "cell_type": "code",
   "execution_count": 4,
   "id": "d4d8b475",
   "metadata": {},
   "outputs": [
    {
     "name": "stdout",
     "output_type": "stream",
     "text": [
      "6\n"
     ]
    }
   ],
   "source": [
    "result = plus2(5)\n",
    "print(result)"
   ]
  },
  {
   "cell_type": "markdown",
   "id": "50bb5495",
   "metadata": {},
   "source": [
    "### (참고) 매개변수과 인수\n",
    "\n",
    "#### 매개변수(parameter, 입력인자, 입력값)\n",
    "함수에 전달된 값을 저장하는 변수 / 함수를 선언할 때 정의하는 변수\n",
    "\n",
    "\n",
    "#### 인수 / 인자 (argument)\n",
    "함수를 호출(=사용)할 때 전달하는 입력 값"
   ]
  },
  {
   "cell_type": "code",
   "execution_count": 5,
   "id": "dd3de29e",
   "metadata": {},
   "outputs": [],
   "source": [
    "# 매개변수를 2개 이상 받는 케이스\n",
    "def sum(a, b):\n",
    "    result = a + b\n",
    "    return result"
   ]
  },
  {
   "cell_type": "code",
   "execution_count": 6,
   "id": "5944bf50",
   "metadata": {},
   "outputs": [
    {
     "data": {
      "text/plain": [
       "30"
      ]
     },
     "execution_count": 6,
     "metadata": {},
     "output_type": "execute_result"
    }
   ],
   "source": [
    "# 인수를 자율적으로 넣어서 여러분이 sum을 호출해보세요.\n",
    "sum(10, 20)"
   ]
  },
  {
   "cell_type": "markdown",
   "id": "5eb6ab03",
   "metadata": {},
   "source": [
    "### 2. 매개변수 있는 함수\n",
    "\n",
    "- 인자 값을 전달 할 때 값만 입력하면 순서대로 매개변수에 할당된다.\n",
    "\n",
    "- 매개변수명을 지정하여 전달할 수 있다."
   ]
  },
  {
   "cell_type": "code",
   "execution_count": 7,
   "id": "7ceb23e1",
   "metadata": {},
   "outputs": [],
   "source": [
    "# 매개변수가 3개인 함수 설정\n",
    "# 3개를 다 더해서 리턴하도록 만들어주세요\n",
    "# 함수명은 test1입니다.\n",
    "def test1(a, b, c):\n",
    "    result = a + b + c\n",
    "    return result"
   ]
  },
  {
   "cell_type": "code",
   "execution_count": 8,
   "id": "d1e24044",
   "metadata": {},
   "outputs": [
    {
     "data": {
      "text/plain": [
       "60"
      ]
     },
     "execution_count": 8,
     "metadata": {},
     "output_type": "execute_result"
    }
   ],
   "source": [
    "test1(10, 20, 30)"
   ]
  },
  {
   "cell_type": "code",
   "execution_count": 9,
   "id": "da1ef50f",
   "metadata": {},
   "outputs": [
    {
     "data": {
      "text/plain": [
       "60"
      ]
     },
     "execution_count": 9,
     "metadata": {},
     "output_type": "execute_result"
    }
   ],
   "source": [
    "# 인자값 순서를 바꿔서 전달(반드시 매개변수명으로 지정한 변수명에 대입해야함)\n",
    "test1(c=20, a=10, b=30)"
   ]
  },
  {
   "cell_type": "markdown",
   "id": "3e241a3a",
   "metadata": {},
   "source": [
    "### 2-1. 매개변수 초기 값 설정\n",
    "\n",
    "- 함수 정의문에서 매개변수 값을 할당하면 초기 값으로 설정\n",
    "\n",
    "\n",
    "- 함수 호출 시 값을 입력하지 않으면 초기 값으로 사용\n",
    "\n",
    "\n",
    "- 초기화시키고 싶은 매개변수들을 항상 뒤쪽에 위치\n",
    "\n",
    "(참고) 포맷팅함수에서 인덱스 번호, 변수명 사용했던 규칙과 유사"
   ]
  },
  {
   "cell_type": "code",
   "execution_count": 13,
   "id": "7dda776f",
   "metadata": {},
   "outputs": [],
   "source": [
    "# 디폴트값 선언을 사용한 예시\n",
    "def test2(a=1, b=2, c=3):\n",
    "    result = a + b + c\n",
    "    return result"
   ]
  },
  {
   "cell_type": "code",
   "execution_count": 16,
   "id": "046f71bd",
   "metadata": {},
   "outputs": [
    {
     "data": {
      "text/plain": [
       "6"
      ]
     },
     "execution_count": 16,
     "metadata": {},
     "output_type": "execute_result"
    }
   ],
   "source": [
    "test2()"
   ]
  },
  {
   "cell_type": "code",
   "execution_count": 17,
   "id": "af8f34a3",
   "metadata": {},
   "outputs": [
    {
     "data": {
      "text/plain": [
       "15"
      ]
     },
     "execution_count": 17,
     "metadata": {},
     "output_type": "execute_result"
    }
   ],
   "source": [
    "test2(10)"
   ]
  },
  {
   "cell_type": "code",
   "execution_count": 18,
   "id": "8ee8f7e4",
   "metadata": {},
   "outputs": [
    {
     "data": {
      "text/plain": [
       "33"
      ]
     },
     "execution_count": 18,
     "metadata": {},
     "output_type": "execute_result"
    }
   ],
   "source": [
    "# 여러분들이 a, b에만 전달해보세요\n",
    "test2(10, 20)"
   ]
  },
  {
   "cell_type": "code",
   "execution_count": 27,
   "id": "5c3f6b95",
   "metadata": {},
   "outputs": [],
   "source": [
    "# 디폴트값 설정은 반드시 오른쪽 요소부터 지정한다\n",
    "def test3(a, b=2, c=1):\n",
    "    result = a + b + c\n",
    "    return result"
   ]
  },
  {
   "cell_type": "code",
   "execution_count": 28,
   "id": "f59b48ac",
   "metadata": {},
   "outputs": [
    {
     "data": {
      "text/plain": [
       "13"
      ]
     },
     "execution_count": 28,
     "metadata": {},
     "output_type": "execute_result"
    }
   ],
   "source": [
    "test3(10)"
   ]
  },
  {
   "cell_type": "markdown",
   "id": "49b1bf3e",
   "metadata": {},
   "source": [
    "### 가변인자 리스트\n",
    "\n",
    "- 입력할 파라미터의 개수가 몇 개인지 모를때 사용함\n",
    "- 파라미터명 왼쪽에 *을 붙인다"
   ]
  },
  {
   "cell_type": "code",
   "execution_count": 29,
   "id": "59741ab2",
   "metadata": {},
   "outputs": [],
   "source": [
    "def get_member_list(p1):\n",
    "    print(\"출석학생은 %s님 입니다.\" % p1)"
   ]
  },
  {
   "cell_type": "code",
   "execution_count": 30,
   "id": "13757e0a",
   "metadata": {},
   "outputs": [
    {
     "name": "stdout",
     "output_type": "stream",
     "text": [
      "출석학생은 채종훈님 입니다.\n"
     ]
    }
   ],
   "source": [
    "get_member_list('채종훈')"
   ]
  },
  {
   "cell_type": "code",
   "execution_count": 31,
   "id": "b46e1a73",
   "metadata": {},
   "outputs": [],
   "source": [
    "def get_member_list2(p1, p2):\n",
    "    print(\"출석학생은 %s, %s님 입니다.\" % (p1, p2))"
   ]
  },
  {
   "cell_type": "code",
   "execution_count": 32,
   "id": "30698c02",
   "metadata": {},
   "outputs": [
    {
     "name": "stdout",
     "output_type": "stream",
     "text": [
      "출석학생은 채종훈, 김파이썬님 입니다.\n"
     ]
    }
   ],
   "source": [
    "get_member_list2('채종훈', '김파이썬')"
   ]
  },
  {
   "cell_type": "code",
   "execution_count": 36,
   "id": "ded79ada",
   "metadata": {},
   "outputs": [],
   "source": [
    "def get_members(*stu):\n",
    "    print(stu)\n",
    "    print(type(stu))\n",
    "    #코드 추가해주세요\n",
    "    message = \"출석학생은 \"\n",
    "    for i in stu:\n",
    "        message += str(i) + \", \"\n",
    "    message += \"입니다.\"\n",
    "    print(message)"
   ]
  },
  {
   "cell_type": "code",
   "execution_count": 38,
   "id": "343e6c71",
   "metadata": {},
   "outputs": [
    {
     "name": "stdout",
     "output_type": "stream",
     "text": [
      "('채종훈', '김파이썬', '이팬더스', '훠궈', '카페', '텐동', '탕수육')\n",
      "<class 'tuple'>\n",
      "출석학생은 채종훈, 김파이썬, 이팬더스, 훠궈, 카페, 텐동, 탕수육, 입니다.\n"
     ]
    }
   ],
   "source": [
    "get_members('채종훈', '김파이썬', '이팬더스', '훠궈', '카페', '텐동', '탕수육')"
   ]
  },
  {
   "cell_type": "markdown",
   "id": "a2f2db0c",
   "metadata": {},
   "source": [
    "### 6. 키워드 파라미터 kwargs (keyword arguments)\n",
    "\n",
    "딕셔너리 형태로 저장되는 매개변수로 정의"
   ]
  },
  {
   "cell_type": "code",
   "execution_count": 39,
   "id": "73fb4490",
   "metadata": {},
   "outputs": [],
   "source": [
    "def test4(**kwargs):\n",
    "    return kwargs"
   ]
  },
  {
   "cell_type": "code",
   "execution_count": 40,
   "id": "64bc9716",
   "metadata": {},
   "outputs": [
    {
     "data": {
      "text/plain": [
       "{'name': '홍길동', 'age': '19'}"
      ]
     },
     "execution_count": 40,
     "metadata": {},
     "output_type": "execute_result"
    }
   ],
   "source": [
    "test4(name=\"홍길동\", age='19')"
   ]
  },
  {
   "cell_type": "markdown",
   "id": "310643c1",
   "metadata": {},
   "source": [
    "### 7. 함수의 결과 값\n",
    "\n",
    "- 함수의 결과 값은 항상 1개\n",
    "\n",
    "- 여러 개의 결과를 가질 수 있지만 하나의 튜플로 전달\n",
    "\n",
    "\n",
    "▶ 기본 문법\n",
    " \n",
    "          def 함수이름(매개변수이름):\n",
    "\n",
    "             return 결과값 1 , 결과값 2"
   ]
  },
  {
   "cell_type": "code",
   "execution_count": 43,
   "id": "10ef7795",
   "metadata": {},
   "outputs": [],
   "source": [
    "# return 키워드는 전달받은 결과물이 2개 이상인 경우(,로 구분지어져서 보내지는 경우) 하나의 '튜플'로\n",
    "# 묶어서 반환되며, 최종적으로 '하나의 변수'에 담을 수 있는 '하나의 값'으로 처리됩니다.\n",
    "def test(a, b):\n",
    "    sum_ = a + b\n",
    "    mul = a * b\n",
    "    return sum_, mul"
   ]
  },
  {
   "cell_type": "code",
   "execution_count": 45,
   "id": "c54f9502",
   "metadata": {},
   "outputs": [
    {
     "name": "stdout",
     "output_type": "stream",
     "text": [
      "(7, 12)\n",
      "<class 'tuple'>\n"
     ]
    }
   ],
   "source": [
    "# 결과를 통째로 가져오기\n",
    "a = test(3, 4)\n",
    "print(a)\n",
    "print(type(a))"
   ]
  },
  {
   "cell_type": "code",
   "execution_count": 46,
   "id": "b1e07fd3",
   "metadata": {},
   "outputs": [
    {
     "name": "stdout",
     "output_type": "stream",
     "text": [
      "7\n",
      "12\n"
     ]
    }
   ],
   "source": [
    "# 결과를 개별 변수에 쪼개서 가져오기\n",
    "s, m = test(3, 4)\n",
    "print(s)\n",
    "print(m)"
   ]
  },
  {
   "cell_type": "markdown",
   "id": "f275e2b6",
   "metadata": {},
   "source": [
    "## << 연습문제 >>\n",
    "\n",
    "#### 1. 입력받은 모든 수의 평균값을 계산하는 함수를 작성해보세요.\n",
    "\n",
    "    - 조건1. 숫자의 개수는 정해져있지 않다.   "
   ]
  },
  {
   "cell_type": "code",
   "execution_count": 47,
   "id": "d3b321eb",
   "metadata": {},
   "outputs": [],
   "source": [
    "def get_avg(*num_list):\n",
    "    total = 0\n",
    "    for num in num_list:\n",
    "        total += num\n",
    "    result = total / len(num_list)\n",
    "    return result"
   ]
  },
  {
   "cell_type": "code",
   "execution_count": 48,
   "id": "ff31687f",
   "metadata": {},
   "outputs": [
    {
     "data": {
      "text/plain": [
       "31.75"
      ]
     },
     "execution_count": 48,
     "metadata": {},
     "output_type": "execute_result"
    }
   ],
   "source": [
    "get_avg(10, 20, 30, 2, 8, 94, 39, 51)"
   ]
  },
  {
   "cell_type": "markdown",
   "id": "c9f32c92",
   "metadata": {},
   "source": [
    "#### 2. 리스트로 입력받은 수들에 대해 양수만 필터링하여 반환해주는 함수를 작성해보세요.\n",
    "\n",
    "- 조건1. 입력값은 인자값으로 리스트를 전달\n",
    "\n",
    "- 조건2. 결과값은 양수로만 구성된 새로운 리스트"
   ]
  },
  {
   "cell_type": "code",
   "execution_count": 49,
   "id": "5a20a01b",
   "metadata": {},
   "outputs": [],
   "source": [
    "def positive_num(*num_list):\n",
    "    positive_list = []\n",
    "    for num in num_list:\n",
    "        if(num > 0):\n",
    "            positive_list.append(num)\n",
    "    return positive_list"
   ]
  },
  {
   "cell_type": "code",
   "execution_count": 50,
   "id": "92a597f1",
   "metadata": {},
   "outputs": [
    {
     "data": {
      "text/plain": [
       "[10, 20, 52, 40, 95]"
      ]
     },
     "execution_count": 50,
     "metadata": {},
     "output_type": "execute_result"
    }
   ],
   "source": [
    "positive_num(10, 20, -20, -21, 52, 40, -19, -80, 95)"
   ]
  }
 ],
 "metadata": {
  "kernelspec": {
   "display_name": "Python 3 (ipykernel)",
   "language": "python",
   "name": "python3"
  },
  "language_info": {
   "codemirror_mode": {
    "name": "ipython",
    "version": 3
   },
   "file_extension": ".py",
   "mimetype": "text/x-python",
   "name": "python",
   "nbconvert_exporter": "python",
   "pygments_lexer": "ipython3",
   "version": "3.9.12"
  }
 },
 "nbformat": 4,
 "nbformat_minor": 5
}
