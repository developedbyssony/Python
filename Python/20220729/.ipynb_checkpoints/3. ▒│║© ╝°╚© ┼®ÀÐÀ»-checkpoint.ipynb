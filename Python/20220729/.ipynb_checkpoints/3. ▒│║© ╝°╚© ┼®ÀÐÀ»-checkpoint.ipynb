{
 "cells": [
  {
   "cell_type": "code",
   "execution_count": null,
   "id": "0d70a9ff",
   "metadata": {},
   "outputs": [],
   "source": [
    "# 교보문고 순회 크롤러를 만들어주세요.\n",
    "# 1~200위까지의 책을 txt파일로 저장해주시면 됩니다."
   ]
  }
 ],
 "metadata": {
  "kernelspec": {
   "display_name": "Python 3 (ipykernel)",
   "language": "python",
   "name": "python3"
  },
  "language_info": {
   "codemirror_mode": {
    "name": "ipython",
    "version": 3
   },
   "file_extension": ".py",
   "mimetype": "text/x-python",
   "name": "python",
   "nbconvert_exporter": "python",
   "pygments_lexer": "ipython3",
   "version": "3.9.12"
  }
 },
 "nbformat": 4,
 "nbformat_minor": 5
}
