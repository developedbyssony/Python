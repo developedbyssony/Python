{
 "cells": [
  {
   "cell_type": "code",
   "execution_count": null,
   "id": "bb8a7d45",
   "metadata": {},
   "outputs": [],
   "source": [
    "import pandas as pd"
   ]
  },
  {
   "cell_type": "code",
   "execution_count": null,
   "id": "377ffd35",
   "metadata": {},
   "outputs": [],
   "source": [
    "pd.read_excel('2021jeju.xlsx')"
   ]
  },
  {
   "cell_type": "code",
   "execution_count": null,
   "id": "0e4dde98",
   "metadata": {},
   "outputs": [],
   "source": [
    "import pymysql\n",
    "# MySQL 연결에 필요한 정보를 입력합니다.\n",
    "con = pymysql.connect(host='localhost', user='root', password='mysql', db='pyprac2', charset='utf8',\n",
    "                     cursorclass=pymysql.cursors.DictCursor) # 컬럼명까지 받아올지 여부\n",
    "# SQL구문을 받아주는 cursor 객체를 사용합니다.\n",
    "cur = con.cursor()\n",
    "cur.execute(\"SELECT * FROM rent_tbl\")\n",
    "mysql_data = cur.fetchall()\n",
    "mysql_data \n",
    "pd.DataFrame(mysql_data)"
   ]
  },
  {
   "cell_type": "code",
   "execution_count": 13,
   "id": "cc006a36",
   "metadata": {},
   "outputs": [
    {
     "ename": "NameError",
     "evalue": "name 'selected_row' is not defined",
     "output_type": "error",
     "traceback": [
      "\u001b[0;31m---------------------------------------------------------------------------\u001b[0m",
      "\u001b[0;31mNameError\u001b[0m                                 Traceback (most recent call last)",
      "Input \u001b[0;32mIn [13]\u001b[0m, in \u001b[0;36m<cell line: 1>\u001b[0;34m()\u001b[0m\n\u001b[0;32m----> 1\u001b[0m cur\u001b[38;5;241m.\u001b[39mexecute(\u001b[38;5;124m\"\u001b[39m\u001b[38;5;124mINSERT INTO rent_tbl (VHCLE_NM, VHCLE_TY_NM, VHCLE_NMPR_CO, VHCLE_MAKR_NM, USE_TIME_CO) VALUES (\u001b[39m\u001b[38;5;124m'\u001b[39m\u001b[38;5;132;01m%s\u001b[39;00m\u001b[38;5;124m'\u001b[39m\u001b[38;5;124m, \u001b[39m\u001b[38;5;124m'\u001b[39m\u001b[38;5;132;01m%s\u001b[39;00m\u001b[38;5;124m'\u001b[39m\u001b[38;5;124m, \u001b[39m\u001b[38;5;124m'\u001b[39m\u001b[38;5;132;01m%s\u001b[39;00m\u001b[38;5;124m'\u001b[39m\u001b[38;5;124m, \u001b[39m\u001b[38;5;124m'\u001b[39m\u001b[38;5;132;01m%s\u001b[39;00m\u001b[38;5;124m'\u001b[39m\u001b[38;5;124m, \u001b[39m\u001b[38;5;132;01m%s\u001b[39;00m\u001b[38;5;124m)\u001b[39m\u001b[38;5;124m\"\u001b[39m \u001b[38;5;241m%\u001b[39m (\u001b[43mselected_row\u001b[49m[\u001b[38;5;124m'\u001b[39m\u001b[38;5;124mVHCLE_NM\u001b[39m\u001b[38;5;124m'\u001b[39m], selected_row[\u001b[38;5;124m'\u001b[39m\u001b[38;5;124mVHCLE_TY_NM\u001b[39m\u001b[38;5;124m'\u001b[39m], selected_row[\u001b[38;5;124m'\u001b[39m\u001b[38;5;124mVHCLE_NMPR_CO\u001b[39m\u001b[38;5;124m'\u001b[39m], selected_row[\u001b[38;5;124m'\u001b[39m\u001b[38;5;124mVHCLE_MAKR_NM\u001b[39m\u001b[38;5;124m'\u001b[39m], selected_row[\u001b[38;5;124m'\u001b[39m\u001b[38;5;124mUSE_TIME_CO\u001b[39m\u001b[38;5;124m'\u001b[39m]))\n\u001b[1;32m      2\u001b[0m con\u001b[38;5;241m.\u001b[39mcommit()\n",
      "\u001b[0;31mNameError\u001b[0m: name 'selected_row' is not defined"
     ]
    }
   ],
   "source": [
    "cur.execute(\"INSERT INTO rent_tbl (VHCLE_NM, VHCLE_TY_NM, VHCLE_NMPR_CO, VHCLE_MAKR_NM, USE_TIME_CO) VALUES ('%s', '%s', '%s', '%s', %s)\" % (selected_row['VHCLE_NM'], selected_row['VHCLE_TY_NM'], selected_row['VHCLE_NMPR_CO'], selected_row['VHCLE_MAKR_NM'], selected_row['USE_TIME_CO']))\n",
    "con.commit()"
   ]
  },
  {
   "cell_type": "code",
   "execution_count": 12,
   "id": "aa231f04",
   "metadata": {},
   "outputs": [
    {
     "data": {
      "text/plain": [
       "3"
      ]
     },
     "execution_count": 12,
     "metadata": {},
     "output_type": "execute_result"
    }
   ],
   "source": [
    "cur.execute(\"SELECT * FROM rent_tbl\")"
   ]
  },
  {
   "cell_type": "code",
   "execution_count": null,
   "id": "3d14a917",
   "metadata": {},
   "outputs": [],
   "source": []
  }
 ],
 "metadata": {
  "kernelspec": {
   "display_name": "Python 3 (ipykernel)",
   "language": "python",
   "name": "python3"
  },
  "language_info": {
   "codemirror_mode": {
    "name": "ipython",
    "version": 3
   },
   "file_extension": ".py",
   "mimetype": "text/x-python",
   "name": "python",
   "nbconvert_exporter": "python",
   "pygments_lexer": "ipython3",
   "version": "3.9.12"
  }
 },
 "nbformat": 4,
 "nbformat_minor": 5
}
