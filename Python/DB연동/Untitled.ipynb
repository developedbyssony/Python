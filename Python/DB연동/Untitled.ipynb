{
 "cells": [
  {
   "cell_type": "code",
   "execution_count": 121,
   "id": "5d0a9bbf",
   "metadata": {},
   "outputs": [],
   "source": [
    "from urllib.request import Request, urlopen\n",
    "from urllib.parse import urlencode, unquote, quote_plus\n",
    "import pandas as pd\n",
    "from pandas.io.json import json_normalize \n",
    "params = '&' + urlencode({\n",
    "    quote_plus(\"apiKey\"): \"rwai4urhns253zsg\",\n",
    "    quote_plus(\"locale\"): \"kr\",\n",
    "    quote_plus(\"category\"): \"c1\",\n",
    "    quote_plus(\"title\"): \"레저\",\n",
    "    quote_plus(\"title\"): \"액티비티\",\n",
    "    quote_plus(\"title\"): \"어트랙션\",\n",
    "    quote_plus(\"title\"): \"체험\",\n",
    "    quote_plus(\"title\"): \"포토\",\n",
    "    quote_plus(\"title\"): \"투어\",\n",
    "    quote_plus(\"title\"): \"카약\",\n",
    "    quote_plus(\"title\"): \"수상\",\n",
    "    quote_plus(\"title\"): \"키즈\",\n",
    "    quote_plus(\"title\"): \"어트랙션\",\n",
    "    quote_plus(\"title\"): \"다이빙\",\n",
    "    quote_plus(\"title\"): \"스쿠버\",\n",
    "    quote_plus(\"title\"): \"어린이\",\n",
    "    quote_plus(\"title\"): \"테마\",\n",
    "    quote_plus(\"title\"): \"승마\",\n",
    "    quote_plus(\"title\"): \"물놀이\",\n",
    "    quote_plus(\"title\"): \"실내\",\n",
    "    quote_plus(\"title\"): \"아이\",\n",
    "    quote_plus(\"title\"): \"요트\",\n",
    "    quote_plus(\"title\"): \"행글\",\n",
    "    quote_plus(\"title\"): \"실외\",\n",
    "})\n",
    "url = \"http://api.visitjeju.net/vsjApi/contents/searchList?\" + params\n",
    "r = urllib.request.urlopen(url)\n",
    "json_raw = r.read()"
   ]
  },
  {
   "cell_type": "code",
   "execution_count": 128,
   "id": "a4ee4062",
   "metadata": {},
   "outputs": [],
   "source": [
    "json_complete = json.loads(json_utf8)\n",
    "type(json_complete)\n",
    "pd.json_normalize(json_complete)\n",
    "json_utf8 = json_raw.decode(\"utf-8\")\n",
    "json_complete = json.loads(json_utf8)\n",
    "pd.json_normalize(json_complete)\n",
    "result = pd.json_normalize(json_complete['items'])\n",
    "result.to_excel('activity.xlsx') "
   ]
  },
  {
   "cell_type": "code",
   "execution_count": 53,
   "id": "664036ad",
   "metadata": {},
   "outputs": [],
   "source": []
  },
  {
   "cell_type": "code",
   "execution_count": null,
   "id": "8bfe307d",
   "metadata": {},
   "outputs": [],
   "source": []
  }
 ],
 "metadata": {
  "kernelspec": {
   "display_name": "Python 3 (ipykernel)",
   "language": "python",
   "name": "python3"
  },
  "language_info": {
   "codemirror_mode": {
    "name": "ipython",
    "version": 3
   },
   "file_extension": ".py",
   "mimetype": "text/x-python",
   "name": "python",
   "nbconvert_exporter": "python",
   "pygments_lexer": "ipython3",
   "version": "3.9.12"
  }
 },
 "nbformat": 4,
 "nbformat_minor": 5
}
