{
 "cells": [
  {
   "cell_type": "markdown",
   "id": "85e5528a",
   "metadata": {},
   "source": [
    "# 자료형\n",
    "\n",
    "여러 개의 아이템들을 저장하는 객체 = 여러 개의 값(데이터타입)을 저장하는 그릇\n",
    "\n",
    "## 1. 리스트(List)\n",
    "\n",
    "▶ 문법 기호 : [아이템1, 아이템2, 아이템3 .... ]\n",
    "\n",
    "\n",
    "▶ 용어 : 아이템 = 요소\n",
    "\n",
    "\n",
    "▶ 아이템으로 가질 수 있는 데이터 타입 : 문자, 숫자, 리스트, 딕셔너리 ...\n",
    "\n",
    "\n",
    "▶ 종류\n",
    "\n",
    "     * 아이템이 없는 리스트\n",
    "    \n",
    "     * 1차원 리스트\n",
    "    \n",
    "     * 다차원 리스트 \n",
    "    \n",
    "    \n",
    "▶ 특징\n",
    "\n",
    "     * 인덱스 활용\n",
    "    \n",
    "     * 다차원 리스트의 구조에 대한 이해"
   ]
  },
  {
   "cell_type": "markdown",
   "id": "f590963e",
   "metadata": {},
   "source": [
    "### 1. 생성하기"
   ]
  },
  {
   "cell_type": "code",
   "execution_count": 1,
   "id": "2feef817",
   "metadata": {},
   "outputs": [
    {
     "name": "stdout",
     "output_type": "stream",
     "text": [
      "<class 'list'> <class 'list'>\n",
      "[] []\n"
     ]
    }
   ],
   "source": [
    "# 빈 리스트 생성하기 = 아이템이 없는 리스트\n",
    "# 문법기호 : []\n",
    "# 함수 : list()\n",
    "a = []\n",
    "a2 = list()\n",
    "print(type(a), type(a2))\n",
    "print(a, a2)"
   ]
  },
  {
   "cell_type": "code",
   "execution_count": 2,
   "id": "1daac5dd",
   "metadata": {},
   "outputs": [],
   "source": [
    "# 모든 데이터타입을 아이템으로 가질 수 있다.\n",
    "a3 = ['a', 10, 1.1, [1, 23.1, 'a']]"
   ]
  },
  {
   "cell_type": "code",
   "execution_count": 10,
   "id": "8fcee63e",
   "metadata": {},
   "outputs": [
    {
     "data": {
      "text/plain": [
       "'a'"
      ]
     },
     "execution_count": 10,
     "metadata": {},
     "output_type": "execute_result"
    }
   ],
   "source": [
    "# 2차원 배열이며, 인덱스를 2개를 써야 하나의 값을 타겟으로 잡을 수 있다.\n",
    "a3[3][2]"
   ]
  },
  {
   "cell_type": "code",
   "execution_count": 11,
   "id": "994b4513",
   "metadata": {},
   "outputs": [
    {
     "data": {
      "text/plain": [
       "[1, 2, 3, [1, 2, 3, [10, 20]]]"
      ]
     },
     "execution_count": 11,
     "metadata": {},
     "output_type": "execute_result"
    }
   ],
   "source": [
    "# 3차원 배열 예시\n",
    "[1, 2, 3, [1, 2, 3, [10, 20]]]"
   ]
  },
  {
   "cell_type": "markdown",
   "id": "1c23ade1",
   "metadata": {},
   "source": [
    "## 2. 인덱싱, 슬라이싱\n",
    "\n",
    "리스트를 인덱스 번호로 접근하면 해당하는 위치의 값(아이템)을 가져온다.\n",
    "\n",
    "※ 복습\n",
    "\n",
    "    - 첫 번째 인덱스 번호는 ? = 0번 인덱스 = 첫 번째 아이템\n",
    "    \n",
    "    - 마지막 인덱스 번호는 ? = -1 = 마지막 아이템"
   ]
  },
  {
   "cell_type": "markdown",
   "id": "ad289116",
   "metadata": {},
   "source": [
    "### 인덱싱(Indexing)\n",
    "\n",
    "※ 정의 복습 : 특정 위치에 있는 하나의 아이템에 접근한다. = 하나의 값을 가져온다."
   ]
  },
  {
   "cell_type": "code",
   "execution_count": 12,
   "id": "68df5011",
   "metadata": {},
   "outputs": [],
   "source": [
    "# 리스트 생성하기\n",
    "a = [1, 2, 3, 4, 5, 6, 7, 8, 9]"
   ]
  },
  {
   "cell_type": "code",
   "execution_count": 13,
   "id": "1fde67b4",
   "metadata": {},
   "outputs": [
    {
     "data": {
      "text/plain": [
       "1"
      ]
     },
     "execution_count": 13,
     "metadata": {},
     "output_type": "execute_result"
    }
   ],
   "source": [
    "# 첫 번째 아이템 인덱스 번호 : 0\n",
    "# 인덱싱 문법 : 객체[인덱스 번호]\n",
    "a[0]"
   ]
  },
  {
   "cell_type": "code",
   "execution_count": 14,
   "id": "b7632876",
   "metadata": {},
   "outputs": [
    {
     "data": {
      "text/plain": [
       "6"
      ]
     },
     "execution_count": 14,
     "metadata": {},
     "output_type": "execute_result"
    }
   ],
   "source": [
    "# 리스트에서 6을 가져와주세요\n",
    "a[5]"
   ]
  },
  {
   "cell_type": "code",
   "execution_count": 15,
   "id": "e256183d",
   "metadata": {},
   "outputs": [
    {
     "data": {
      "text/plain": [
       "9"
      ]
     },
     "execution_count": 15,
     "metadata": {},
     "output_type": "execute_result"
    }
   ],
   "source": [
    "# 리스트의 마지막 값 확인하기\n",
    "a[-1]"
   ]
  },
  {
   "cell_type": "code",
   "execution_count": 16,
   "id": "c6b04904",
   "metadata": {},
   "outputs": [
    {
     "data": {
      "text/plain": [
       "9"
      ]
     },
     "execution_count": 16,
     "metadata": {},
     "output_type": "execute_result"
    }
   ],
   "source": [
    "# len()으로도 길이를 확인할 수 있음\n",
    "len(a)"
   ]
  },
  {
   "cell_type": "markdown",
   "id": "f05bd370",
   "metadata": {},
   "source": [
    "### 슬라이싱(Slicing)\n",
    "\n",
    "- 정의 복습 : 연속된 범위에 있는 하나 또는 하나 이상의 여러개 아이템에 접근한다.\n",
    "- 문법기호 : 대상객체(문자열, 리스트)[시작번호:끝번호:간격] => 끝번호는 포함하지 않는다."
   ]
  },
  {
   "cell_type": "code",
   "execution_count": 17,
   "id": "8523a4f6",
   "metadata": {},
   "outputs": [
    {
     "data": {
      "text/plain": [
       "[1, 2, 3, 4, 5, 6, 7, 8, 9]"
      ]
     },
     "execution_count": 17,
     "metadata": {},
     "output_type": "execute_result"
    }
   ],
   "source": [
    "a"
   ]
  },
  {
   "cell_type": "code",
   "execution_count": 18,
   "id": "d27a0efe",
   "metadata": {},
   "outputs": [
    {
     "data": {
      "text/plain": [
       "[1, 2, 3]"
      ]
     },
     "execution_count": 18,
     "metadata": {},
     "output_type": "execute_result"
    }
   ],
   "source": [
    "# 리스트의 0~2번째 아이템까지 확인하기\n",
    "# 시작번호 : 0\n",
    "# 끝번호 : 2 -> 3\n",
    "a[0:3]"
   ]
  },
  {
   "cell_type": "code",
   "execution_count": 19,
   "id": "66a5e954",
   "metadata": {},
   "outputs": [
    {
     "data": {
      "text/plain": [
       "[4, 5, 6, 7, 8, 9]"
      ]
     },
     "execution_count": 19,
     "metadata": {},
     "output_type": "execute_result"
    }
   ],
   "source": [
    "# 리스트의 3번째 아이템부터 마지막 아이템까지 확인하기\n",
    "# 시작번호 : 3\n",
    "# 끝번호 : 생략\n",
    "a[3:]"
   ]
  },
  {
   "cell_type": "markdown",
   "id": "ae19a79e",
   "metadata": {},
   "source": [
    "### << 연습문제 >>\n",
    "\n",
    "다음의 4차원 리스트에서 아래 조건에 맞는 값을 출력해주세요.\n",
    "\n",
    "         a = [1,2,3, ['a', [100, 200, ['강남', '서울'], 300,], 'b', 'c']]\n",
    "         \n",
    "         출력 결과 = 강남 & 300 & c\n",
    "         \n",
    "         포매팅을 써서 해 주세요."
   ]
  },
  {
   "cell_type": "code",
   "execution_count": 20,
   "id": "4641cfc2",
   "metadata": {},
   "outputs": [],
   "source": [
    "a = [1,2,3, ['a', [100, 200, ['강남', '서울'], 300,], 'b', 'c']]"
   ]
  },
  {
   "cell_type": "code",
   "execution_count": 34,
   "id": "f5f2f39f",
   "metadata": {},
   "outputs": [
    {
     "data": {
      "text/plain": [
       "'강남'"
      ]
     },
     "execution_count": 34,
     "metadata": {},
     "output_type": "execute_result"
    }
   ],
   "source": [
    "value1 = a[3][1][2][0]\n",
    "value1"
   ]
  },
  {
   "cell_type": "code",
   "execution_count": 41,
   "id": "deb9fda5",
   "metadata": {},
   "outputs": [
    {
     "data": {
      "text/plain": [
       "300"
      ]
     },
     "execution_count": 41,
     "metadata": {},
     "output_type": "execute_result"
    }
   ],
   "source": [
    "value2 = a[3][1][3]\n",
    "value2"
   ]
  },
  {
   "cell_type": "code",
   "execution_count": 43,
   "id": "d37f91a8",
   "metadata": {},
   "outputs": [
    {
     "data": {
      "text/plain": [
       "'c'"
      ]
     },
     "execution_count": 43,
     "metadata": {},
     "output_type": "execute_result"
    }
   ],
   "source": [
    "value3 = a[3][-1]\n",
    "value3"
   ]
  },
  {
   "cell_type": "code",
   "execution_count": 46,
   "id": "cb8b361c",
   "metadata": {},
   "outputs": [
    {
     "data": {
      "text/plain": [
       "'출력 결과 =  강남 & 300 & c'"
      ]
     },
     "execution_count": 46,
     "metadata": {},
     "output_type": "execute_result"
    }
   ],
   "source": [
    "\"출력 결과 =  %s & %s & %s\" % (value1, value2, value3)"
   ]
  },
  {
   "cell_type": "markdown",
   "id": "517f6d22",
   "metadata": {},
   "source": [
    "### 3. 아이템 추가하기 : 연산자와 함수를 이용한 리스트 아이템 추가\n",
    "\n",
    "1) 산술연산자 : +, *\n",
    "\n",
    "2) 리스트의 함수(메서드) : 리스트.append(), 리스트.extend(), 리스트.insert()"
   ]
  },
  {
   "cell_type": "markdown",
   "id": "71a4d658",
   "metadata": {},
   "source": [
    "### 3-1) 산술연산자\n",
    "\n",
    "* 종류 : +, *\n",
    "\n",
    "* 특징 : 원본에 반영되지 않는다."
   ]
  },
  {
   "cell_type": "code",
   "execution_count": 47,
   "id": "6fca982a",
   "metadata": {},
   "outputs": [],
   "source": [
    "# 리스트끼리 연결하기 : +\n",
    "a = [1, 2, 3]\n",
    "b = [4, 5, 6]"
   ]
  },
  {
   "cell_type": "code",
   "execution_count": 48,
   "id": "641a935a",
   "metadata": {},
   "outputs": [
    {
     "data": {
      "text/plain": [
       "[1, 2, 3, 4, 5, 6]"
      ]
     },
     "execution_count": 48,
     "metadata": {},
     "output_type": "execute_result"
    }
   ],
   "source": [
    "a + b"
   ]
  },
  {
   "cell_type": "code",
   "execution_count": 49,
   "id": "485c9c9a",
   "metadata": {},
   "outputs": [
    {
     "name": "stdout",
     "output_type": "stream",
     "text": [
      "[1, 2, 3] [4, 5, 6]\n"
     ]
    }
   ],
   "source": [
    "print(a, b)"
   ]
  },
  {
   "cell_type": "code",
   "execution_count": 50,
   "id": "1a0fddb0",
   "metadata": {},
   "outputs": [
    {
     "data": {
      "text/plain": [
       "[4, 5, 6, 4, 5, 6, 4, 5, 6]"
      ]
     },
     "execution_count": 50,
     "metadata": {},
     "output_type": "execute_result"
    }
   ],
   "source": [
    "# 리스트 대상 곱하기 : *\n",
    "b * 3 # b + b + b"
   ]
  },
  {
   "cell_type": "code",
   "execution_count": 51,
   "id": "797a2eec",
   "metadata": {},
   "outputs": [
    {
     "data": {
      "text/plain": [
       "[4, 5, 6]"
      ]
     },
     "execution_count": 51,
     "metadata": {},
     "output_type": "execute_result"
    }
   ],
   "source": [
    "b"
   ]
  },
  {
   "cell_type": "markdown",
   "id": "55219e44",
   "metadata": {},
   "source": [
    "### 4. 리스트 타입의 함수 (method)\n",
    "* 종류\n",
    "\n",
    "    - 리스트.append(추가할 아이템) : 인자값을 통채로 리스트의 마지막 아이템으로 추가, 인자값은 1개만 받음 = 1개의 아이템만 추가 가능\n",
    "\n",
    "    - 리스트.extend(추가할 아이템) : 인자값의 아이템을 뽑아서 리스트의 마지막 아이템으로 추가, 인자값은 1개만 받음, 단 여러 개의 아이템 추가 가능\n",
    "    \n",
    "    - 리스트.insert(인덱스번호, 추가할 아이템) : 위치를 지정해서 아이템을 삽입할 수 있음, 통채로 아이템을 추가\n",
    "    \n",
    "    - 특징 : 원본에 바로 적용이 됨\n",
    "    \n",
    "    \n",
    "* 참고 연산자 : in 연산자 (결과값은 bool type)"
   ]
  },
  {
   "cell_type": "code",
   "execution_count": 52,
   "id": "c5ad93fd",
   "metadata": {},
   "outputs": [
    {
     "data": {
      "text/plain": [
       "[1, 2, 3]"
      ]
     },
     "execution_count": 52,
     "metadata": {},
     "output_type": "execute_result"
    }
   ],
   "source": [
    "# 리스트 생성하기\n",
    "a = [1, 2, 3]\n",
    "a"
   ]
  },
  {
   "cell_type": "code",
   "execution_count": 53,
   "id": "51e5dd62",
   "metadata": {},
   "outputs": [
    {
     "data": {
      "text/plain": [
       "[1, 2, 3, 4]"
      ]
     },
     "execution_count": 53,
     "metadata": {},
     "output_type": "execute_result"
    }
   ],
   "source": [
    "# append()\n",
    "# 문법 : 리스트.append(추가할 아이템)\n",
    "a.append(4)\n",
    "a"
   ]
  },
  {
   "cell_type": "code",
   "execution_count": 54,
   "id": "5aa0e475",
   "metadata": {},
   "outputs": [
    {
     "data": {
      "text/plain": [
       "[1, 2, 3, 4, [5, 6]]"
      ]
     },
     "execution_count": 54,
     "metadata": {},
     "output_type": "execute_result"
    }
   ],
   "source": [
    "# 추가할 자료로 [5, 6]을 제공한다면\n",
    "a.append([5, 6])\n",
    "a"
   ]
  },
  {
   "cell_type": "code",
   "execution_count": 55,
   "id": "ef920eb9",
   "metadata": {},
   "outputs": [
    {
     "data": {
      "text/plain": [
       "[5, 6]"
      ]
     },
     "execution_count": 55,
     "metadata": {},
     "output_type": "execute_result"
    }
   ],
   "source": [
    "a[4]"
   ]
  },
  {
   "cell_type": "code",
   "execution_count": 56,
   "id": "9b9919cd",
   "metadata": {},
   "outputs": [
    {
     "data": {
      "text/plain": [
       "[1, 2, 3, 4, [5, 6], 7, 8, 9]"
      ]
     },
     "execution_count": 56,
     "metadata": {},
     "output_type": "execute_result"
    }
   ],
   "source": [
    "# extend()\n",
    "# 문법 : 대상리스트.extend(리스트)\n",
    "# append()와의 차이점 : 인자값으로 리스트만 받을 수 있다.\n",
    "# 리스트 길이만큼 인덱스 길이가 늘어난다(append는 무조건 1만큼만 연장됨)\n",
    "a.extend([7, 8, 9])\n",
    "a"
   ]
  },
  {
   "cell_type": "code",
   "execution_count": 58,
   "id": "3a3b3fdc",
   "metadata": {},
   "outputs": [],
   "source": [
    "a.extend([10])"
   ]
  },
  {
   "cell_type": "code",
   "execution_count": 59,
   "id": "e6d18dbd",
   "metadata": {},
   "outputs": [
    {
     "data": {
      "text/plain": [
       "[1, 2, 3, 4, [5, 6], 7, 8, 9, 10]"
      ]
     },
     "execution_count": 59,
     "metadata": {},
     "output_type": "execute_result"
    }
   ],
   "source": [
    "a"
   ]
  },
  {
   "cell_type": "code",
   "execution_count": 60,
   "id": "f684caca",
   "metadata": {},
   "outputs": [
    {
     "data": {
      "text/plain": [
       "[100, 1, 2, 3, 4, [5, 6], 7, 8, 9, 10]"
      ]
     },
     "execution_count": 60,
     "metadata": {},
     "output_type": "execute_result"
    }
   ],
   "source": [
    "# insert()\n",
    "# 문법 : 대상리스트.insert(인덱스번호, 추가할아이템)\n",
    "# 다른 함수와의 차이점 : 아이템 추가가 마지막 인덱스가 아닌 지정한 인덱스를 기준으로\n",
    "# append와의 유사점 : 하나의 인덱스에 다 때려박음\n",
    "a.insert(0, 100)\n",
    "a"
   ]
  },
  {
   "cell_type": "code",
   "execution_count": 61,
   "id": "d6d7384c",
   "metadata": {},
   "outputs": [
    {
     "data": {
      "text/plain": [
       "[[99, 98], 100, 1, 2, 3, 4, [5, 6], 7, 8, 9, 10]"
      ]
     },
     "execution_count": 61,
     "metadata": {},
     "output_type": "execute_result"
    }
   ],
   "source": [
    "a.insert(0, [99, 98])\n",
    "a"
   ]
  },
  {
   "cell_type": "code",
   "execution_count": 64,
   "id": "17ca1cc4",
   "metadata": {},
   "outputs": [
    {
     "data": {
      "text/plain": [
       "False"
      ]
     },
     "execution_count": 64,
     "metadata": {},
     "output_type": "execute_result"
    }
   ],
   "source": [
    "# in 키워드는 특정 요소가 리스트 내에 있는지 없는지 여부를 물어봅니다.\n",
    "# 값 in 리스트\n",
    "# 값 100이 a리스트내에 존재하나요? => 100 in a\n",
    "99 in a"
   ]
  },
  {
   "cell_type": "code",
   "execution_count": 66,
   "id": "2af56e39",
   "metadata": {},
   "outputs": [
    {
     "data": {
      "text/plain": [
       "False"
      ]
     },
     "execution_count": 66,
     "metadata": {},
     "output_type": "execute_result"
    }
   ],
   "source": [
    "# not in 키워드는 특정 요소가 리스트 내부에 없는지 여부를 물어봅니다.\n",
    "# 값 not in 리스트\n",
    "# 50이 a리스트에 존재 안 합니까? -> 50 not in a\n",
    "10 not in a"
   ]
  },
  {
   "cell_type": "markdown",
   "id": "bfb5ed49",
   "metadata": {},
   "source": [
    "### << 연습문제 >>\n",
    "\n",
    "아래의 순서에 맞추어 직접 실행해보세요.\n",
    "\n",
    "1) 빈 리스트 생성\n",
    "\n",
    "\n",
    "2) 1번 리스트에 숫자 1,2,3 을 아이템으로 추가\n",
    "\n",
    "\n",
    "3) 2번 리스트의 3번째 위치에 문자 100 을 아이템으로 추가\n",
    "\n",
    "\n",
    "4) 3번 리스트의 마지막에 문자 A, B를 아이템으로 가진 리스트를 아이템으로 추가\n",
    "\n",
    "\n",
    "5) 4번 리스트의 아이템을 2번 반복해서 가지는 리스트를 출력"
   ]
  },
  {
   "cell_type": "code",
   "execution_count": 67,
   "id": "10c02da6",
   "metadata": {},
   "outputs": [
    {
     "data": {
      "text/plain": [
       "[]"
      ]
     },
     "execution_count": 67,
     "metadata": {},
     "output_type": "execute_result"
    }
   ],
   "source": [
    "# 1) 빈 리스트 생성\n",
    "list1 = list()\n",
    "list1"
   ]
  },
  {
   "cell_type": "code",
   "execution_count": 68,
   "id": "f5eabdfd",
   "metadata": {},
   "outputs": [
    {
     "data": {
      "text/plain": [
       "[1, 2, 3]"
      ]
     },
     "execution_count": 68,
     "metadata": {},
     "output_type": "execute_result"
    }
   ],
   "source": [
    "# 2) 1번 리스트에 숫자 1,2,3 을 아이템으로 추가\n",
    "# list1.extend([1, 2, 3])\n",
    "# 혹은\n",
    "# list.append(1)\n",
    "# list.append(2)\n",
    "# list.append(3)\n",
    "# 혹은\n",
    "list1 += [1, 2, 3]\n",
    "list1"
   ]
  },
  {
   "cell_type": "code",
   "execution_count": 69,
   "id": "ef88c2a1",
   "metadata": {},
   "outputs": [
    {
     "data": {
      "text/plain": [
       "[1, 2, 100, 3]"
      ]
     },
     "execution_count": 69,
     "metadata": {},
     "output_type": "execute_result"
    }
   ],
   "source": [
    "# 3) 2번 리스트의 3번째 위치에 문자 100 을 아이템으로 추가\n",
    "list1.insert(2, 100)\n",
    "list1"
   ]
  },
  {
   "cell_type": "code",
   "execution_count": 70,
   "id": "ee435b21",
   "metadata": {},
   "outputs": [
    {
     "data": {
      "text/plain": [
       "[1, 2, 100, 3, ['A', 'B']]"
      ]
     },
     "execution_count": 70,
     "metadata": {},
     "output_type": "execute_result"
    }
   ],
   "source": [
    "# 4) 3번 리스트의 마지막에 문자 A, B를 아이템으로 가진 리스트를 아이템으로 추가\n",
    "list1.append(['A', 'B'])\n",
    "list1"
   ]
  },
  {
   "cell_type": "code",
   "execution_count": 71,
   "id": "a6bef2f5",
   "metadata": {},
   "outputs": [
    {
     "data": {
      "text/plain": [
       "[1, 2, 100, 3, ['A', 'B'], 1, 2, 100, 3, ['A', 'B']]"
      ]
     },
     "execution_count": 71,
     "metadata": {},
     "output_type": "execute_result"
    }
   ],
   "source": [
    "# 5) 4번 리스트의 아이템을 2번 반복해서 가지는 리스트를 출력\n",
    "list1 * 2"
   ]
  },
  {
   "cell_type": "markdown",
   "id": "4cdd1cb1",
   "metadata": {},
   "source": [
    "### 5. 아이템 수정하기\n",
    "\n",
    "- 인덱싱, 슬라이싱을 이용해서 아이템을 수정할 수 있다."
   ]
  },
  {
   "cell_type": "code",
   "execution_count": 72,
   "id": "734fee2a",
   "metadata": {},
   "outputs": [],
   "source": [
    "# 리스트 생성하기\n",
    "a = [1, 2, 3, 4]"
   ]
  },
  {
   "cell_type": "code",
   "execution_count": 73,
   "id": "4e6f6083",
   "metadata": {},
   "outputs": [
    {
     "data": {
      "text/plain": [
       "[[10, 20], 2, 3, 4]"
      ]
     },
     "execution_count": 73,
     "metadata": {},
     "output_type": "execute_result"
    }
   ],
   "source": [
    "# 하나의 아이템 수정하기\n",
    "# 0번 인덱스에 있는 값을 [10, 20]으로 수정하기\n",
    "# 결과 : [[10, 20], 2, 3, 4]\n",
    "a[0] = [10, 20]\n",
    "a"
   ]
  },
  {
   "cell_type": "code",
   "execution_count": 74,
   "id": "a1d20214",
   "metadata": {},
   "outputs": [
    {
     "data": {
      "text/plain": [
       "[10, 20, 2, 3, 4]"
      ]
     },
     "execution_count": 74,
     "metadata": {},
     "output_type": "execute_result"
    }
   ],
   "source": [
    "# 연속된 범위의 여러 아이템 수정하기\n",
    "# 0번 인덱스만 선택 => 슬라이싱으로 선택\n",
    "a2 = [1, 2, 3, 4]\n",
    "a2[0:1] = [10, 20] # 0번째부터 0번째가지(1-1번까지)\n",
    "a2"
   ]
  },
  {
   "cell_type": "code",
   "execution_count": 76,
   "id": "a3d12e39",
   "metadata": {},
   "outputs": [],
   "source": [
    "# 슬라이싱으로 값을 할당할 때의 주의점 : 전달하는 값은 1개여도 리스트로\n",
    "a2[0:1] = [100]"
   ]
  },
  {
   "cell_type": "code",
   "execution_count": 77,
   "id": "9b8bde23",
   "metadata": {},
   "outputs": [
    {
     "data": {
      "text/plain": [
       "[100, 20, 2, 3, 4]"
      ]
     },
     "execution_count": 77,
     "metadata": {},
     "output_type": "execute_result"
    }
   ],
   "source": [
    "a2"
   ]
  },
  {
   "cell_type": "markdown",
   "id": "e93d3792",
   "metadata": {},
   "source": [
    "### << 연습문제 >>\n",
    "\n",
    "아래 조건에 맞추어 리스트를 수정하세요.\n",
    "\n",
    "    [ 10, 99, 3, '사과', 73, '바나나' ]\n",
    "    \n",
    "조건1)  '사과'를 'apple'로 수정\n",
    "\n",
    "조건2)  99, 3 을 9, 33으로 수정(슬라이싱으로 교체하세요)\n",
    "\n",
    "조건3)  73 을 [ 73, 74 ] 로 수정"
   ]
  },
  {
   "cell_type": "code",
   "execution_count": 78,
   "id": "0362bfa6",
   "metadata": {},
   "outputs": [],
   "source": [
    "a = [ 10, 99, 3, '사과', 73, '바나나' ]"
   ]
  },
  {
   "cell_type": "code",
   "execution_count": 79,
   "id": "f8747982",
   "metadata": {},
   "outputs": [],
   "source": [
    "# 조건 1)\n",
    "a[3] = 'apple'"
   ]
  },
  {
   "cell_type": "code",
   "execution_count": 80,
   "id": "5ee1b5d5",
   "metadata": {},
   "outputs": [
    {
     "data": {
      "text/plain": [
       "[10, 99, 3, 'apple', 73, '바나나']"
      ]
     },
     "execution_count": 80,
     "metadata": {},
     "output_type": "execute_result"
    }
   ],
   "source": [
    "a"
   ]
  },
  {
   "cell_type": "code",
   "execution_count": 81,
   "id": "ccd2b703",
   "metadata": {},
   "outputs": [],
   "source": [
    "# 조건 2)\n",
    "a[1:3] = [9, 33]"
   ]
  },
  {
   "cell_type": "code",
   "execution_count": 82,
   "id": "08b4f5d3",
   "metadata": {},
   "outputs": [
    {
     "data": {
      "text/plain": [
       "[10, 9, 33, 'apple', 73, '바나나']"
      ]
     },
     "execution_count": 82,
     "metadata": {},
     "output_type": "execute_result"
    }
   ],
   "source": [
    "a"
   ]
  },
  {
   "cell_type": "code",
   "execution_count": 83,
   "id": "37dde4d4",
   "metadata": {},
   "outputs": [],
   "source": [
    "a[4] = [73, 74]"
   ]
  },
  {
   "cell_type": "code",
   "execution_count": 84,
   "id": "3ea043e0",
   "metadata": {},
   "outputs": [
    {
     "data": {
      "text/plain": [
       "[10, 9, 33, 'apple', [73, 74], '바나나']"
      ]
     },
     "execution_count": 84,
     "metadata": {},
     "output_type": "execute_result"
    }
   ],
   "source": [
    "a"
   ]
  },
  {
   "cell_type": "markdown",
   "id": "2ddcc0c3",
   "metadata": {},
   "source": [
    "### 6. 아이템 삭제하기\n",
    "\n",
    "* 슬라이싱\n",
    "\n",
    "* del 키워드 + 인덱싱/슬라이싱\n",
    "\n",
    "* remove() 메서드 : 값을 기준으로 삭제\n",
    "\n",
    "* pop() \n",
    "    - 인자값에 아무것도 입력하지 않거나 -1을 입력하면 마지막 인덱스를 삭제\n",
    "    - 특정 인덱스를 지정하여 삭제"
   ]
  },
  {
   "cell_type": "code",
   "execution_count": 85,
   "id": "1d2e33b7",
   "metadata": {},
   "outputs": [],
   "source": [
    "# 리스트 생성하기\n",
    "a1 = [10, 20, 30, 40, 50]\n",
    "a2 = [10, 20, 30, 40, 50]"
   ]
  },
  {
   "cell_type": "code",
   "execution_count": 86,
   "id": "53b5f9a3",
   "metadata": {},
   "outputs": [
    {
     "data": {
      "text/plain": [
       "[20, 30, 40, 50]"
      ]
     },
     "execution_count": 86,
     "metadata": {},
     "output_type": "execute_result"
    }
   ],
   "source": [
    "# 하나의 아이템 삭제하기 -1 슬라이싱 + 빈 리스트 대입\n",
    "# 0번 인덱스 값 삭제하기\n",
    "a1[0:1] = []\n",
    "a1"
   ]
  },
  {
   "cell_type": "code",
   "execution_count": 87,
   "id": "19f87f9a",
   "metadata": {},
   "outputs": [
    {
     "data": {
      "text/plain": [
       "[[], 20, 30, 40, 50]"
      ]
     },
     "execution_count": 87,
     "metadata": {},
     "output_type": "execute_result"
    }
   ],
   "source": [
    "# 만약 슬라이싱이 아닌 인덱싱을 이용한 빈 리스트 대입시는 빈 리스트가 해당 번호에 대입\n",
    "a2[0] = []\n",
    "a2"
   ]
  },
  {
   "cell_type": "code",
   "execution_count": 88,
   "id": "44aa274f",
   "metadata": {},
   "outputs": [
    {
     "data": {
      "text/plain": [
       "[20, 30, 40]"
      ]
     },
     "execution_count": 88,
     "metadata": {},
     "output_type": "execute_result"
    }
   ],
   "source": [
    "# 하나의 아이템 삭제하기 2 - del 키워드 + 인덱싱\n",
    "del a1[-1]\n",
    "a1"
   ]
  },
  {
   "cell_type": "code",
   "execution_count": 89,
   "id": "f1008798",
   "metadata": {},
   "outputs": [
    {
     "ename": "NameError",
     "evalue": "name 'a2' is not defined",
     "output_type": "error",
     "traceback": [
      "\u001b[1;31m---------------------------------------------------------------------------\u001b[0m",
      "\u001b[1;31mNameError\u001b[0m                                 Traceback (most recent call last)",
      "Input \u001b[1;32mIn [89]\u001b[0m, in \u001b[0;36m<cell line: 4>\u001b[1;34m()\u001b[0m\n\u001b[0;32m      1\u001b[0m \u001b[38;5;66;03m# del 키워드는 원래 해당 변수나 자료를 삭제해버립니다.\u001b[39;00m\n\u001b[0;32m      2\u001b[0m \u001b[38;5;66;03m# 리스트 전체를 del키워드로 걸면 리스트가 전부 다 삭제됩니다.\u001b[39;00m\n\u001b[0;32m      3\u001b[0m \u001b[38;5;28;01mdel\u001b[39;00m a2\n\u001b[1;32m----> 4\u001b[0m \u001b[43ma2\u001b[49m\n",
      "\u001b[1;31mNameError\u001b[0m: name 'a2' is not defined"
     ]
    }
   ],
   "source": [
    "# del 키워드는 원래 해당 변수나 자료를 삭제해버립니다.\n",
    "# 리스트 전체를 del키워드로 걸면 리스트가 전부 다 삭제됩니다.\n",
    "del a2\n",
    "a2"
   ]
  },
  {
   "cell_type": "code",
   "execution_count": 90,
   "id": "cd4d56cd",
   "metadata": {},
   "outputs": [],
   "source": [
    "# 하나의 아이템 삭제하기 3 - remove() 메서드\n",
    "# 문법 : 리스트.remove(삭제할 자료를 직접 기입(인덱스가 아님!!))\n",
    "a = [1, 2, 3, 3, 3, 4, 5]"
   ]
  },
  {
   "cell_type": "code",
   "execution_count": 91,
   "id": "8ae5fa9d",
   "metadata": {},
   "outputs": [
    {
     "data": {
      "text/plain": [
       "[1, 2, 3, 3, 3, 4]"
      ]
     },
     "execution_count": 91,
     "metadata": {},
     "output_type": "execute_result"
    }
   ],
   "source": [
    "# 5라는 값을 삭제(인덱스번호로는 6)\n",
    "a.remove(5)\n",
    "a"
   ]
  },
  {
   "cell_type": "code",
   "execution_count": 92,
   "id": "15ef1414",
   "metadata": {},
   "outputs": [
    {
     "data": {
      "text/plain": [
       "[1, 2, 3, 3, 4]"
      ]
     },
     "execution_count": 92,
     "metadata": {},
     "output_type": "execute_result"
    }
   ],
   "source": [
    "# 중복된 아이템이 존재하면 가장 앞서는 인덱스 자료 하나만 삭제\n",
    "a.remove(3)\n",
    "a"
   ]
  },
  {
   "cell_type": "code",
   "execution_count": 93,
   "id": "d9a3c593",
   "metadata": {},
   "outputs": [
    {
     "data": {
      "text/plain": [
       "[1, 2]"
      ]
     },
     "execution_count": 93,
     "metadata": {},
     "output_type": "execute_result"
    }
   ],
   "source": [
    "# del 키워드는 단일자료뿐만아니라 연속된범위(슬라이싱) 자료 삭제도 가능합니다.\n",
    "del a[2:]\n",
    "a"
   ]
  },
  {
   "cell_type": "code",
   "execution_count": 94,
   "id": "33ef3363",
   "metadata": {},
   "outputs": [
    {
     "data": {
      "text/plain": [
       "[1, 2, 3, 4, 5, 6]"
      ]
     },
     "execution_count": 94,
     "metadata": {},
     "output_type": "execute_result"
    }
   ],
   "source": [
    "# 하나의 아이템 삭제하기 4 - pop()메서드\n",
    "# 마지막에 위치한 값이 몇이었는지 확인시켜주고 삭제함\n",
    "a = [1, 2, 3, 4, 5]\n",
    "a.append(6)\n",
    "a"
   ]
  },
  {
   "cell_type": "code",
   "execution_count": 95,
   "id": "e5ab2c10",
   "metadata": {},
   "outputs": [
    {
     "data": {
      "text/plain": [
       "6"
      ]
     },
     "execution_count": 95,
     "metadata": {},
     "output_type": "execute_result"
    }
   ],
   "source": [
    "a.pop() #인덱스번호를 기입하지 않으면 마지막 인덱스 자료 삭제(6삭제)"
   ]
  },
  {
   "cell_type": "code",
   "execution_count": 96,
   "id": "fe50cf8c",
   "metadata": {
    "scrolled": true
   },
   "outputs": [
    {
     "data": {
      "text/plain": [
       "[1, 2, 3, 4, 5]"
      ]
     },
     "execution_count": 96,
     "metadata": {},
     "output_type": "execute_result"
    }
   ],
   "source": [
    "a"
   ]
  },
  {
   "cell_type": "code",
   "execution_count": 97,
   "id": "dcc1ff03",
   "metadata": {},
   "outputs": [
    {
     "data": {
      "text/plain": [
       "3"
      ]
     },
     "execution_count": 97,
     "metadata": {},
     "output_type": "execute_result"
    }
   ],
   "source": [
    "# 삭제하려는 인덱스번호 지정시 마지막 자료가 아닌 지정 인덱스번호의 자료 삭제\n",
    "a.pop(2)"
   ]
  },
  {
   "cell_type": "code",
   "execution_count": 98,
   "id": "6e9169af",
   "metadata": {},
   "outputs": [
    {
     "data": {
      "text/plain": [
       "[1, 2, 4, 5]"
      ]
     },
     "execution_count": 98,
     "metadata": {},
     "output_type": "execute_result"
    }
   ],
   "source": [
    "a"
   ]
  }
 ],
 "metadata": {
  "kernelspec": {
   "display_name": "Python 3 (ipykernel)",
   "language": "python",
   "name": "python3"
  },
  "language_info": {
   "codemirror_mode": {
    "name": "ipython",
    "version": 3
   },
   "file_extension": ".py",
   "mimetype": "text/x-python",
   "name": "python",
   "nbconvert_exporter": "python",
   "pygments_lexer": "ipython3",
   "version": "3.9.12"
  }
 },
 "nbformat": 4,
 "nbformat_minor": 5
}
